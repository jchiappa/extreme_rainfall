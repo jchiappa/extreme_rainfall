{
 "cells": [
  {
   "cell_type": "code",
   "execution_count": null,
   "id": "004698fc-9487-48cd-8c21-c771ec77e38d",
   "metadata": {},
   "outputs": [],
   "source": [
    "# Jason Chiappa 2025\n",
    "# Applies quality control conditions"
   ]
  },
  {
   "cell_type": "code",
   "execution_count": null,
   "id": "4c5c0795-9e09-43bf-b691-cb55659a9fed",
   "metadata": {},
   "outputs": [],
   "source": [
    "import os, warnings\n",
    "import numpy as np\n",
    "import pandas as pd\n",
    "\n",
    "warnings.simplefilter('ignore')"
   ]
  },
  {
   "cell_type": "code",
   "execution_count": null,
   "id": "efa00208-f44a-4f4f-acf2-d9d6fb006eab",
   "metadata": {},
   "outputs": [],
   "source": [
    "##############################################################################################\n",
    "#### PLEASE MODIFY AS NEEDED ####\n",
    "##############################################################################################\n",
    "\n",
    "# Separation distance between simultaneous events\n",
    "sep_dist = 250\n",
    "# sep_dist = 100\n",
    "\n",
    "# Main data directory (containing ere_database_qcparams_[sep_dist]km.csv)\n",
    "datadir = 'C:/Users/jchiappa/OneDrive - University of Oklahoma/ERE_analysis/v2/data/'\n",
    "\n",
    "# Will run for entire dataset (regardless of resuming) due to short runtime"
   ]
  },
  {
   "cell_type": "code",
   "execution_count": null,
   "id": "35764dce-f5ef-4053-abfc-dba798266f4e",
   "metadata": {},
   "outputs": [],
   "source": [
    "# input database file name\n",
    "dbfname = 'ere_database_qcparams_'+str(sep_dist)+'km.csv'\n",
    "\n",
    "# output database file name\n",
    "outputfname = 'ere_database_qcflagged_'+str(sep_dist)+'km.csv'\n",
    "\n",
    "df = pd.read_csv(datadir+dbfname)"
   ]
  },
  {
   "cell_type": "code",
   "execution_count": null,
   "id": "86f12724-3abc-44e8-8dee-f30de6b03c6c",
   "metadata": {},
   "outputs": [],
   "source": [
    "# define lists from dataframe\n",
    "events = df.event.to_list()\n",
    "max_exceeds = df.exceedance.to_list()\n",
    "max_accums = df.accumulation.to_list()\n",
    "max_sizes = df.exceed_pts.to_list()\n",
    "max_rates = df.max_1hr.to_list()\n",
    "surrounds = df.surround_avg.to_list()\n",
    "surroundmins = df.surround_min.to_list()"
   ]
  },
  {
   "cell_type": "code",
   "execution_count": null,
   "id": "321a9204-b0fc-4627-9e9b-833e068237bf",
   "metadata": {},
   "outputs": [],
   "source": [
    "# function for surrounding average check\n",
    "# minfraction = minimum fraction of max accumulation for surrounding gridpoints\n",
    "minfraction = 0.32  # best value based on testing\n",
    "def qc_suravg(event,minfraction):\n",
    "    i = events.index(event)\n",
    "    frac = surrounds[i]/max_accums[i]\n",
    "    if frac < minfraction:\n",
    "        flag = 0\n",
    "    else:\n",
    "        flag = 1\n",
    "    return(flag)"
   ]
  },
  {
   "cell_type": "code",
   "execution_count": null,
   "id": "455fe369-614f-4e3a-88f9-440868d23885",
   "metadata": {},
   "outputs": [],
   "source": [
    "# function for surrounding minimum accumulation check\n",
    "# minaccumfrac = minimum accumulation fraction of max exceedance accumulation for surrounding gridpoints\n",
    "minaccumfrac = 0.005  # best value based on testing\n",
    "def qc_surmin(event,minaccumfrac):\n",
    "    i = events.index(event)\n",
    "    frac = surroundmins[i]/max_accums[i]\n",
    "    if frac < minaccumfrac:\n",
    "        flag = 0\n",
    "    else:\n",
    "        flag = 1\n",
    "    return(flag)"
   ]
  },
  {
   "cell_type": "code",
   "execution_count": null,
   "id": "4c54d293-316b-410e-a362-4547aa0b7ab3",
   "metadata": {},
   "outputs": [],
   "source": [
    "# function for max accumulation rate check\n",
    "# input max rainfall rate in mm/h\n",
    "maxrate = 254  # 10 in/hr\n",
    "def qc_rate(event,maxrate):\n",
    "    i = events.index(event)\n",
    "    if max_rates[i] > maxrate:\n",
    "        flag = 0\n",
    "    else:\n",
    "        flag = 1\n",
    "    return(flag)"
   ]
  },
  {
   "cell_type": "code",
   "execution_count": null,
   "id": "66110eac-0871-4b9f-821c-2b70391c1581",
   "metadata": {},
   "outputs": [],
   "source": [
    "# function for revmoving events with max exceedance too high for the size of the event\n",
    "# input put minimum fraction of number of exceedance points to max exceedance (mm)\n",
    "minfrac = 0.04  # based on testing\n",
    "def qc_exceedsize(event,minfrac):\n",
    "    i = events.index(event)\n",
    "    if (max_sizes[i]/max_exceeds[i] < minfrac):\n",
    "        flag = 0\n",
    "    else:\n",
    "        flag = 1\n",
    "    return(flag)"
   ]
  },
  {
   "cell_type": "code",
   "execution_count": null,
   "id": "8051dd3a-a9a1-4c0c-ae8a-016f51c4c838",
   "metadata": {},
   "outputs": [],
   "source": [
    "# lists of flags\n",
    "qcsur_list = []\n",
    "qcsurm_list = []\n",
    "qcrate_list = []\n",
    "qcexceedsize_list = []\n",
    "\n",
    "# minfraction = 0.32\n",
    "# minaccumfrac = 0.005\n",
    "# maxrate = 254\n",
    "# minfrac = 0.04\n",
    "\n",
    "# test events\n",
    "for event in events:\n",
    "    qcsur_list.append(qc_suravg(event,minfraction))\n",
    "    qcsurm_list.append(qc_surmin(event,minaccumfrac))\n",
    "    qcrate_list.append(qc_rate(event,maxrate))\n",
    "    qcexceedsize_list.append(qc_exceedsize(event,minfrac))"
   ]
  },
  {
   "cell_type": "code",
   "execution_count": null,
   "id": "e15b458b-932d-4a13-a4fc-4beb470f967c",
   "metadata": {},
   "outputs": [],
   "source": [
    "df['qc_suravg'] = qcsur_list\n",
    "df['qc_surmin'] = qcsurm_list\n",
    "df['qc_rate'] = qcrate_list\n",
    "df['qc_exceedsize'] = qcexceedsize_list"
   ]
  },
  {
   "cell_type": "code",
   "execution_count": null,
   "id": "40ddea42-d197-4132-bb99-878d2b6328dc",
   "metadata": {},
   "outputs": [],
   "source": [
    "# apply the four qc conditions and filter bad from dataset\n",
    "df_qc = df[(df['qc_suravg']==1) & (df['qc_surmin']==1) & (df['qc_rate']==1) & (df['qc_exceedsize']==1)]"
   ]
  },
  {
   "cell_type": "code",
   "execution_count": null,
   "id": "e101029c-780b-44a1-9f4f-4ed73c30a985",
   "metadata": {},
   "outputs": [],
   "source": [
    "# list of qc flags\n",
    "qcpass = df_qc['event'].to_list()\n",
    "auto_qc = []\n",
    "for e in events:\n",
    "    if e in qcpass:\n",
    "        auto_qc.append(1)\n",
    "    else:\n",
    "        auto_qc.append(0)"
   ]
  },
  {
   "cell_type": "code",
   "execution_count": null,
   "id": "c838ec65-89aa-4afd-98d7-05a0d3ccab72",
   "metadata": {},
   "outputs": [],
   "source": [
    "# add column with qc flags\n",
    "df['qc_flag'] = auto_qc"
   ]
  },
  {
   "cell_type": "code",
   "execution_count": null,
   "id": "9882d5fb-9aac-4680-9c87-35a2dc0c5ca7",
   "metadata": {},
   "outputs": [],
   "source": [
    "# save data with qc flags\n",
    "df.to_csv(datadir+outputfname,index=False)"
   ]
  }
 ],
 "metadata": {
  "kernelspec": {
   "display_name": "Python [conda env:py3]",
   "language": "python",
   "name": "conda-env-py3-py"
  },
  "language_info": {
   "codemirror_mode": {
    "name": "ipython",
    "version": 3
   },
   "file_extension": ".py",
   "mimetype": "text/x-python",
   "name": "python",
   "nbconvert_exporter": "python",
   "pygments_lexer": "ipython3",
   "version": "3.9.21"
  }
 },
 "nbformat": 4,
 "nbformat_minor": 5
}
