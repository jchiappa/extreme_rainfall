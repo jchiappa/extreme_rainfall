{
 "cells": [
  {
   "cell_type": "code",
   "execution_count": null,
   "id": "86e5f6e4",
   "metadata": {},
   "outputs": [],
   "source": [
    "import os"
   ]
  },
  {
   "cell_type": "code",
   "execution_count": null,
   "id": "de98c070",
   "metadata": {},
   "outputs": [],
   "source": [
    "# data directories with raw (extracted) stage iv data\n",
    "paths = ['E:/Research/EREs/data/stage_iv/01h/',\n",
    "         'E:/Research/EREs/data/stage_iv/06h/',\n",
    "         'E:/Research/EREs/data/stage_iv/24h/']"
   ]
  },
  {
   "cell_type": "code",
   "execution_count": null,
   "id": "e4ac6f07",
   "metadata": {},
   "outputs": [],
   "source": [
    "for path in paths:\n",
    "    allfiles = os.listdir(path)\n",
    "\n",
    "    # add grb2 extensions\n",
    "    files = [fname for fname in allfiles if not fname.endswith('.grb2')]\n",
    "    for index, file in enumerate(files):\n",
    "        os.rename(path+file, path+file+'.grb2')\n",
    "    \n",
    "    allfiles = os.listdir(path)\n",
    "    \n",
    "    # start files with naming convention \"st4_conus\"\n",
    "    files = [fname for fname in allfiles if not fname.startswith('st4_conus')]\n",
    "    for index, file in enumerate(files):\n",
    "        new = path+'st4_conus.'+file[-19:]\n",
    "        if os.path.exists(new):\n",
    "            os.remove(path+file)\n",
    "        else:\n",
    "            os.rename(path+file, new)"
   ]
  }
 ],
 "metadata": {
  "kernelspec": {
   "display_name": "Python [conda env:py3]",
   "language": "python",
   "name": "conda-env-py3-py"
  },
  "language_info": {
   "codemirror_mode": {
    "name": "ipython",
    "version": 3
   },
   "file_extension": ".py",
   "mimetype": "text/x-python",
   "name": "python",
   "nbconvert_exporter": "python",
   "pygments_lexer": "ipython3",
   "version": "3.9.21"
  }
 },
 "nbformat": 4,
 "nbformat_minor": 5
}
