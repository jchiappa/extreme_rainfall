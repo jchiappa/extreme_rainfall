{
 "cells": [
  {
   "cell_type": "code",
   "execution_count": null,
   "id": "a0dbee3f-f300-4868-9249-f434e3800a43",
   "metadata": {},
   "outputs": [],
   "source": [
    "# Jason Chiappa 2025\n",
    "# Calculates parameters needed for quality control"
   ]
  },
  {
   "cell_type": "code",
   "execution_count": null,
   "id": "58b4f60c-8422-4064-aa1e-5870c1b859b6",
   "metadata": {},
   "outputs": [],
   "source": [
    "import os, warnings\n",
    "import numpy as np\n",
    "import pandas as pd\n",
    "import xarray as xr\n",
    "from geopy.distance import geodesic\n",
    "from datetime import datetime\n",
    "\n",
    "warnings.simplefilter('ignore')"
   ]
  },
  {
   "cell_type": "code",
   "execution_count": null,
   "id": "b10455da-df55-466a-9651-62601218ba8d",
   "metadata": {},
   "outputs": [],
   "source": [
    "##############################################################################################\n",
    "#### PLEASE MODIFY AS NEEDED ####\n",
    "##############################################################################################\n",
    "\n",
    "# Separation distance between simultaneous events\n",
    "sep_dist = 250\n",
    "# sep_dist = 100\n",
    "\n",
    "# IMPORTANT!!!\n",
    "# True if resuming (or adding additional data to append to dataset), false if starting from beginning.\n",
    "# Failing to change to True will overwrite all previous data and recalculate the parameters.\n",
    "resume = False\n",
    "\n",
    "# TIME RANGE for this run (YYYY-MM-DD HH:MM:SS) [change if resuming]\n",
    "start_time = '2002-01-01 00:00:00'\n",
    "end_time = '2024-12-31 23:00:00'\n",
    "\n",
    "# Main data directory (containing ere_database_prelim_[sep_dist].csv)\n",
    "datadir = 'C:/Users/jchiappa/OneDrive - University of Oklahoma/ERE_analysis/v2/data/'\n",
    "\n",
    "# Accumulation map array directory\n",
    "arr_dir = 'E:/Research/EREs/data/array_output/'\n",
    "\n",
    "# directory for lat/lon grids\n",
    "latlon_dir = 'E:/Research/EREs/data/stageiv_latlon/'\n",
    "\n",
    "# directory of US masks\n",
    "usmask_dir = 'E:/Research/EREs/data/us_masks/'"
   ]
  },
  {
   "cell_type": "code",
   "execution_count": null,
   "id": "6d3dc15e-dac5-40a0-8341-1e22aa9b9fbb",
   "metadata": {},
   "outputs": [],
   "source": [
    "##############################################################################################\n",
    "#### Leave the stuff below ####\n",
    "##############################################################################################\n",
    "\n",
    "# 12-hr accumulation array subdirectory\n",
    "accum_path = arr_dir+str(sep_dist)+'km/accum_12h/'\n",
    "\n",
    "# preliminary database file name\n",
    "dbfname = 'ere_database_prelim_'+str(sep_dist)+'km.csv'\n",
    "\n",
    "# output database file name\n",
    "outputfname = 'ere_database_qcparams_'+str(sep_dist)+'km.csv'\n",
    "\n",
    "# list of all times (by hour) in selected time range\n",
    "times = pd.Series(pd.date_range(start_time,end_time, freq='h')).to_list()\n",
    "\n",
    "# lat/lon bounds for domain of study (W,E,S,N)\n",
    "west,east,south,north = -104,-65,20,50"
   ]
  },
  {
   "cell_type": "code",
   "execution_count": null,
   "id": "f74c003c-6cff-4c54-8920-9d0fe3edeb09",
   "metadata": {},
   "outputs": [],
   "source": [
    "# degree longitude to distance (km)\n",
    "def dlon_km(event_lat):\n",
    "    coord1 = (event_lat,0)\n",
    "    coord2 = (event_lat,1)\n",
    "    return(geodesic(coord1,coord2).km)"
   ]
  },
  {
   "cell_type": "code",
   "execution_count": null,
   "id": "3869782c-9f90-432c-8a52-62eb4f95143d",
   "metadata": {},
   "outputs": [],
   "source": [
    "if resume:\n",
    "    # load existing and save parameters to list to be added to\n",
    "    df0 = pd.read_csv(datadir+outputfname)\n",
    "    df0['event_time'] = pd.to_datetime(df0['event_time'], format=\"%Y-%m-%d %H:%M:%S\")\n",
    "    # save parameters for events before run period\n",
    "    df0 = df0[df0.event_time < times[0]]\n",
    "    surround_avgs = df0.surround_avg.to_list()\n",
    "    surround_mins = df0.surround_min.to_list()\n",
    "else:\n",
    "    # empty lists to store parameters\n",
    "    surround_avgs = []\n",
    "    surround_mins = []\n",
    "\n",
    "# raw database\n",
    "df = pd.read_csv(datadir+dbfname)\n",
    "df['event_time'] = pd.to_datetime(df['event_time'], format=\"%Y-%m-%d %H:%M:%S\")\n",
    "\n",
    "# dataframe with events to analyze\n",
    "df1 = df[(df.event_time >= times[0]) & (df.event_time <= times[-1])]"
   ]
  },
  {
   "cell_type": "code",
   "execution_count": null,
   "id": "b4eea97b-a873-4d89-baa9-f4225e6ec31f",
   "metadata": {},
   "outputs": [],
   "source": [
    "# define lists from dataframe\n",
    "events = df1.event.to_list()\n",
    "event_lats = df1.lat.to_list()\n",
    "event_lons = df1.lon.to_list()\n",
    "latvers = df1.latversion.to_list()"
   ]
  },
  {
   "cell_type": "code",
   "execution_count": null,
   "id": "139017a2-e72f-4f93-9e1c-2444d0e10d7b",
   "metadata": {},
   "outputs": [],
   "source": [
    "# calculates parameters for quality control: \n",
    "# (1) average accumulation from st4 pixels surounding the point of max exceddance\n",
    "# (2) minimum accumulation from st4 pixels surounding the point of max exceddance\n",
    "# input event id number and search radius (number of pixels; keep as 1)\n",
    "def qcparams(event,searchradius=1):\n",
    "    i = events.index(event)\n",
    "    lat = np.load(latlon_dir+'stageiv_lats_'+str(int(latvers[i]))+'.npy').flatten()\n",
    "    lon = np.load(latlon_dir+'stageiv_lons_'+str(int(latvers[i]))+'.npy').flatten()\n",
    "    \n",
    "    # create lat/lon masks for domain\n",
    "    latmask = (lat>=south) & (lat<=north)\n",
    "    lonmask = (lon>=west) & (lon<=east)\n",
    "    llmask = latmask & lonmask\n",
    "    us_mask = np.load(usmask_dir+'US_mask_'+str(int(latvers[i]))+'.npy').flatten()\n",
    "    mask = llmask.data & us_mask\n",
    "    \n",
    "    accum_array = np.load(accum_path+str(event).zfill(5)+'.npy').flatten()\n",
    "    accum_array = np.where(mask, accum_array, np.nan)\n",
    "    maxlat = event_lats[i]\n",
    "    maxlon = event_lons[i]\n",
    "    dlon = dlon_km(maxlat)\n",
    "    dlat = 111\n",
    "    max_index = np.where((lat>maxlat-4/dlat/2) & (lat<maxlat+4/dlat/2) &\n",
    "                         (lon>maxlon-4/dlon/2) & (lon<maxlon+4/dlon/2))[0][0]\n",
    "    # lat/lon box radius for gathering adjacent/surrounding searchradius grid points only\n",
    "    latrad = (searchradius*4/dlat) + (2/dlat)\n",
    "    lonrad = (searchradius*4/dlon) + (2/dlon)\n",
    "    surround_idxs = np.where((lat>maxlat-latrad) & (lat<maxlat+latrad) &\n",
    "                             (lon>maxlon-lonrad) & (lon<maxlon+lonrad))[0]\n",
    "    surround_idxs = np.delete(surround_idxs,np.where(surround_idxs==max_index)[0][0])\n",
    "    vals = accum_array[surround_idxs]\n",
    "    event_surround_avg = np.nanmean(vals)\n",
    "    event_surround_min = np.nanmin(vals)\n",
    "    \n",
    "    return(event_surround_avg,event_surround_min)"
   ]
  },
  {
   "cell_type": "code",
   "execution_count": null,
   "id": "6ebddcd8-9fe0-45f6-805d-8a507fe73e74",
   "metadata": {},
   "outputs": [],
   "source": [
    "# perform calculation for each event\n",
    "# long run time!\n",
    "for event in events:\n",
    "    event_surround_avg,event_surround_min = qcparams(event)\n",
    "    surround_avgs.append(event_surround_avg)\n",
    "    surround_mins.append(event_surround_min)\n",
    "    print(str(event)+'/'+str(events[-1]),end='\\r')"
   ]
  },
  {
   "cell_type": "code",
   "execution_count": null,
   "id": "b0da3af5-5ebf-479d-a035-c4fb7ac6a76f",
   "metadata": {},
   "outputs": [],
   "source": [
    "# add columns to original dataframe\n",
    "df['surround_avg'] = surround_avgs\n",
    "df['surround_min'] = surround_mins"
   ]
  },
  {
   "cell_type": "code",
   "execution_count": null,
   "id": "4a0f54c7-bbb1-4238-b00d-933e7cc95675",
   "metadata": {},
   "outputs": [],
   "source": [
    "# save to new csv\n",
    "df.to_csv(datadir+outputfname,index=False)"
   ]
  }
 ],
 "metadata": {
  "kernelspec": {
   "display_name": "Python [conda env:py3]",
   "language": "python",
   "name": "conda-env-py3-py"
  },
  "language_info": {
   "codemirror_mode": {
    "name": "ipython",
    "version": 3
   },
   "file_extension": ".py",
   "mimetype": "text/x-python",
   "name": "python",
   "nbconvert_exporter": "python",
   "pygments_lexer": "ipython3",
   "version": "3.9.21"
  }
 },
 "nbformat": 4,
 "nbformat_minor": 5
}
