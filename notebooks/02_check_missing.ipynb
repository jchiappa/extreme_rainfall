{
 "cells": [
  {
   "cell_type": "code",
   "execution_count": null,
   "id": "d6fe1d5c",
   "metadata": {},
   "outputs": [],
   "source": [
    "import pandas as pd\n",
    "import os, warnings\n",
    "import numpy as np\n",
    "\n",
    "warnings.simplefilter('ignore')"
   ]
  },
  {
   "cell_type": "code",
   "execution_count": null,
   "id": "6769680a",
   "metadata": {},
   "outputs": [],
   "source": [
    "##############################################################################################\n",
    "#### PLEASE MODIFY AS NEEDED ####\n",
    "##############################################################################################\n",
    "\n",
    "# st4 1h data directory\n",
    "path01 = 'E:/Research/EREs/data/stage_iv/01h/'\n",
    "\n",
    "# st4 6h data directory\n",
    "path06 = 'E:/Research/EREs/data/stage_iv/06h/'\n",
    "\n",
    "# st4 24h data directory\n",
    "path24 = 'E:/Research/EREs/data/stage_iv/24h/'\n",
    "\n",
    "# main data directory (for input and output of small files)\n",
    "datadir = 'C:/Users/jchiappa/OneDrive - University of Oklahoma/ERE_analysis/v2/data/'\n",
    "\n",
    "# start and end date of dataset\n",
    "sdate,edate = '2002-01-01','2024-12-31'\n",
    "\n",
    "##############################################################################################"
   ]
  },
  {
   "cell_type": "code",
   "execution_count": null,
   "id": "7575a9c7",
   "metadata": {},
   "outputs": [],
   "source": [
    "files = os.listdir(path01)\n",
    "times = pd.to_datetime(pd.Series([file[10:20] for file in files if file.endswith('.grb2')]),format='%Y%m%d%H')"
   ]
  },
  {
   "cell_type": "code",
   "execution_count": null,
   "id": "0e5dca13",
   "metadata": {},
   "outputs": [],
   "source": [
    "alltimes = pd.Series(pd.date_range(sdate,edate, freq=\"h\"))[:-1]"
   ]
  },
  {
   "cell_type": "code",
   "execution_count": null,
   "id": "38fb806f",
   "metadata": {},
   "outputs": [],
   "source": [
    "missing = []\n",
    "j = 0\n",
    "for i,t in enumerate(alltimes):\n",
    "    if alltimes[i] == times[j]:\n",
    "        j += 1\n",
    "    else:\n",
    "        missing.append(alltimes[i])"
   ]
  },
  {
   "cell_type": "code",
   "execution_count": null,
   "id": "60618fb0",
   "metadata": {},
   "outputs": [],
   "source": [
    "pd.DataFrame(missing).to_csv(datadir+'missing_01h.csv')"
   ]
  },
  {
   "cell_type": "code",
   "execution_count": null,
   "id": "9ac0fb80",
   "metadata": {
    "scrolled": true
   },
   "outputs": [],
   "source": [
    "files = os.listdir(path06)\n",
    "times = pd.to_datetime(pd.Series([file[10:20] for file in files if file.endswith('.grb2')]),format='%Y%m%d%H').to_list()"
   ]
  },
  {
   "cell_type": "code",
   "execution_count": null,
   "id": "fa1ff775",
   "metadata": {},
   "outputs": [],
   "source": [
    "alltimes = pd.Series(pd.date_range(sdate,edate, freq=\"6h\"))[:-1]"
   ]
  },
  {
   "cell_type": "code",
   "execution_count": null,
   "id": "3869525b",
   "metadata": {},
   "outputs": [],
   "source": [
    "missing = []\n",
    "for t in alltimes:\n",
    "    if t not in times:\n",
    "        missing.append(t)"
   ]
  },
  {
   "cell_type": "code",
   "execution_count": null,
   "id": "5faef50c",
   "metadata": {},
   "outputs": [],
   "source": [
    "pd.DataFrame(missing).to_csv(datadir+'missing_06h.csv')"
   ]
  },
  {
   "cell_type": "code",
   "execution_count": null,
   "id": "be9eed4a",
   "metadata": {
    "scrolled": true
   },
   "outputs": [],
   "source": [
    "files = os.listdir(path24)\n",
    "times = pd.to_datetime(pd.Series([file[10:20] for file in files if file.endswith('.grb2')]),format='%Y%m%d%H').to_list()"
   ]
  },
  {
   "cell_type": "code",
   "execution_count": null,
   "id": "256c4739",
   "metadata": {},
   "outputs": [],
   "source": [
    "alltimes = pd.Series(pd.date_range(sdate+' 12:00:00',edate+' 12:00:00', freq=\"24h\"))[:-1]"
   ]
  },
  {
   "cell_type": "code",
   "execution_count": null,
   "id": "3403632b",
   "metadata": {},
   "outputs": [],
   "source": [
    "missing = []\n",
    "for t in alltimes:\n",
    "    if t not in times:\n",
    "        missing.append(t)"
   ]
  },
  {
   "cell_type": "code",
   "execution_count": null,
   "id": "b2d6db49",
   "metadata": {},
   "outputs": [],
   "source": [
    "pd.DataFrame(missing).to_csv(datadir+'missing_24h.csv')"
   ]
  }
 ],
 "metadata": {
  "kernelspec": {
   "display_name": "Python [conda env:py3]",
   "language": "python",
   "name": "conda-env-py3-py"
  },
  "language_info": {
   "codemirror_mode": {
    "name": "ipython",
    "version": 3
   },
   "file_extension": ".py",
   "mimetype": "text/x-python",
   "name": "python",
   "nbconvert_exporter": "python",
   "pygments_lexer": "ipython3",
   "version": "3.9.21"
  }
 },
 "nbformat": 4,
 "nbformat_minor": 5
}
