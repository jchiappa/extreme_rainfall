{
 "cells": [
  {
   "cell_type": "code",
   "execution_count": null,
   "id": "004698fc-9487-48cd-8c21-c771ec77e38d",
   "metadata": {},
   "outputs": [],
   "source": [
    "# Jason Chiappa 2025\n",
    "# Organizes csv ERE database"
   ]
  },
  {
   "cell_type": "code",
   "execution_count": null,
   "id": "4c5c0795-9e09-43bf-b691-cb55659a9fed",
   "metadata": {},
   "outputs": [],
   "source": [
    "import pandas as pd\n",
    "import os, warnings\n",
    "\n",
    "warnings.simplefilter('ignore')"
   ]
  },
  {
   "cell_type": "code",
   "execution_count": null,
   "id": "efa00208-f44a-4f4f-acf2-d9d6fb006eab",
   "metadata": {},
   "outputs": [],
   "source": [
    "##############################################################################################\n",
    "#### PLEASE MODIFY AS NEEDED ####\n",
    "##############################################################################################\n",
    "\n",
    "# Separation distance between simultaneous events\n",
    "sep_dist = 250\n",
    "sep_dist = 100\n",
    "\n",
    "# Main data directory (containing ere_database csv files)\n",
    "datadir = 'C:/Users/jchiappa/OneDrive - University of Oklahoma/ERE_analysis/v2/data/'"
   ]
  },
  {
   "cell_type": "code",
   "execution_count": null,
   "id": "e894007a-d8be-4af1-9006-24f8abc2256f",
   "metadata": {},
   "outputs": [],
   "source": [
    "# input database file name\n",
    "dbfname = 'ere_database_classflagged_'+str(sep_dist)+'km.csv'\n",
    "\n",
    "# output database file name (used for analysis)\n",
    "outputfname = 'ere_database_'+str(sep_dist)+'km.csv'"
   ]
  },
  {
   "cell_type": "code",
   "execution_count": null,
   "id": "60701f83-8540-4973-95c0-142166b472a1",
   "metadata": {},
   "outputs": [],
   "source": [
    "df1 = pd.read_csv(datadir+dbfname)"
   ]
  },
  {
   "cell_type": "code",
   "execution_count": null,
   "id": "030d0592-221e-4350-83f3-f7844c7f6f95",
   "metadata": {},
   "outputs": [],
   "source": [
    "# list with column names in desired order\n",
    "cols = ['event','lat','lon','state','event_time','start_time','accum_time','duration','night_hours','period_start','period_end',\n",
    "        'exceedance','accumulation','exceed_pts','exceed_vol','exceed_length','exceed_azimuth','max_1hr','max_pflength',\n",
    "        'pflength_duration','ari_10','ari_25','ari_50','ari_100','ari_500','ari_1000','latversion','tc_flag','iso_flag','mcs_flag',\n",
    "        'noct_flag','qc_flag']\n",
    "\n",
    "df = df1[cols].convert_dtypes()"
   ]
  },
  {
   "cell_type": "code",
   "execution_count": null,
   "id": "c4dab47c-8d22-4dcf-9ff6-3d4a0eed8fef",
   "metadata": {},
   "outputs": [],
   "source": [
    "df.to_csv(datadir+outputfname,index=False)"
   ]
  },
  {
   "cell_type": "code",
   "execution_count": null,
   "id": "73089d89-ef8c-43a0-bd79-77d8594b5538",
   "metadata": {},
   "outputs": [],
   "source": []
  },
  {
   "cell_type": "code",
   "execution_count": null,
   "id": "7deb7fd3-4c86-406b-abbb-38c0daa59dfa",
   "metadata": {},
   "outputs": [],
   "source": [
    "# prep dataset for publication\n",
    "df_pub = df.copy()\n",
    "df_pub['event_time'] = pd.to_datetime(df_pub['event_time'], format=\"%Y-%m-%d %H:%M:%S\")\n",
    "df_pub['start_time'] = pd.to_datetime(df_pub['start_time'], format=\"%Y-%m-%d %H:%M:%S\")\n",
    "df_pub['accum_time'] = pd.to_datetime(df_pub['accum_time'], format=\"%Y-%m-%d %H:%M:%S\")\n",
    "df_pub['period_start'] = pd.to_datetime(df_pub['period_start'], format=\"%Y-%m-%d %H:%M:%S\")\n",
    "df_pub['period_end'] = pd.to_datetime(df_pub['period_end'], format=\"%Y-%m-%d %H:%M:%S\")\n",
    "\n",
    "syear = df_pub['event_time'].to_list()[0].year\n",
    "eyear = df_pub['event_time'].to_list()[-1].year\n",
    "\n",
    "df_pub['event_time'] = df_pub.event_time.dt.strftime('%Y%m%d%H')\n",
    "df_pub['start_time'] = df_pub.start_time.dt.strftime('%Y%m%d%H')\n",
    "df_pub['accum_time'] = df_pub.accum_time.dt.strftime('%Y%m%d%H')\n",
    "df_pub['period_start'] = df_pub.period_start.dt.strftime('%Y%m%d%H')\n",
    "df_pub['period_end'] = df_pub.period_end.dt.strftime('%Y%m%d%H')\n",
    "\n",
    "df_pub = df_pub.drop(['duration','night_hours','latversion','exceed_azimuth'],axis=1)\n",
    "\n",
    "outputfname = 'ere_database_'+str(syear)+'_'+str(eyear)+'_'+str(sep_dist)+'km.csv'\n",
    "df_pub.to_csv(datadir+outputfname,index=False)"
   ]
  }
 ],
 "metadata": {
  "kernelspec": {
   "display_name": "Python [conda env:py3]",
   "language": "python",
   "name": "conda-env-py3-py"
  },
  "language_info": {
   "codemirror_mode": {
    "name": "ipython",
    "version": 3
   },
   "file_extension": ".py",
   "mimetype": "text/x-python",
   "name": "python",
   "nbconvert_exporter": "python",
   "pygments_lexer": "ipython3",
   "version": "3.9.21"
  }
 },
 "nbformat": 4,
 "nbformat_minor": 5
}
